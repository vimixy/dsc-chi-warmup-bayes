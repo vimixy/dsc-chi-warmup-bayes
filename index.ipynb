{
 "cells": [
  {
   "cell_type": "markdown",
   "metadata": {},
   "source": [
    "# Practice with Bayes\n",
    "\n",
    "\n",
    "Thomas Bayes           |  Bayes Theorum\n",
    ":-------------------------:|:-------------------------:\n",
    "![](images/thom-bayes.gif)  |  ![](images/bayes.png)"
   ]
  },
  {
   "cell_type": "code",
   "execution_count": 1,
   "metadata": {
    "ExecuteTime": {
     "end_time": "2020-06-09T04:35:19.132975Z",
     "start_time": "2020-06-09T04:35:18.693706Z"
    }
   },
   "outputs": [],
   "source": [
    "# Run this cell unchanged.\n",
    "from test import Test\n",
    "test = Test()"
   ]
  },
  {
   "cell_type": "markdown",
   "metadata": {},
   "source": [
    "# #1 Write a function\n",
    "\n",
    "<u><b>Define a function called ```bayes``` that receive 3 parameters:</b></u>\n",
    "1. b_given_a\n",
    "2. a\n",
    "3. b\n",
    "\n",
    "And returns the probability for A|B"
   ]
  },
  {
   "cell_type": "code",
   "execution_count": 5,
   "metadata": {},
   "outputs": [],
   "source": [
    "# Your code here\n",
    "def bayes(b_given_a, a, b):\n",
    "    a_given_b = (b_given_a * a)/b\n",
    "    return a_given_b"
   ]
  },
  {
   "cell_type": "markdown",
   "metadata": {},
   "source": [
    "# #2 You've Got Mail!"
   ]
  },
  {
   "cell_type": "markdown",
   "metadata": {},
   "source": [
    "**📩You receive an email and your spam detector has classified the email as spam.📩** \n",
    "\n",
    "Assume that: \n",
    "- 5% of emails you receive are spam \n",
    "- The spam detector correctly identifies spam 99% of the time\n",
    "- Emails are incorrectly marked as spam 0.2% of the time. \n",
    "\n",
    "*Hint*\n",
    "\n",
    ">P(B) = P(B|A) × P(A) + P(B|not A) × P(not A) = P(Detected) = P(Detected|Spam) × P(Spam) + P(Detected|not Spam) × P(not Spam)\n",
    "\n",
    "<u><b>What is the probability the email is spam?</b></u>"
   ]
  },
  {
   "cell_type": "code",
   "execution_count": 10,
   "metadata": {
    "ExecuteTime": {
     "end_time": "2020-06-08T22:08:35.019888Z",
     "start_time": "2020-06-08T22:08:35.016558Z"
    }
   },
   "outputs": [],
   "source": [
    "# Your code here\n",
    "b_given_a = .99\n",
    "a = .05\n",
    "b = (b_given_a * a) + (.002* .95)\n",
    "a_given_b = bayes(b_given_a, a, b)"
   ]
  },
  {
   "cell_type": "markdown",
   "metadata": {},
   "source": [
    "*Run the cell below to check your answer*\n",
    ">(Do not round your answer)"
   ]
  },
  {
   "cell_type": "code",
   "execution_count": 11,
   "metadata": {
    "ExecuteTime": {
     "end_time": "2020-06-09T05:26:44.956432Z",
     "start_time": "2020-06-09T05:26:44.952858Z"
    }
   },
   "outputs": [
    {
     "data": {
      "text/markdown": [
       "✅ **Hey, you did it.  Good job.**"
      ],
      "text/plain": [
       "<IPython.core.display.Markdown object>"
      ]
     },
     "metadata": {},
     "output_type": "display_data"
    }
   ],
   "source": [
    "test.run_test(a_given_b, 'spam')"
   ]
  },
  {
   "cell_type": "markdown",
   "metadata": {},
   "source": [
    "# #3 Weather Weather Weather\n",
    "\n",
    "<img src=\"images/clouds.png\">\n",
    "\n",
    "<u><b>☁️You wake up and the sky is cloudy☁️</b></u>\n",
    "\n",
    "- There is a 30% chance of it raining on any given day 💧\n",
    "- On days when it rains there is a 95% chance of it being cloudy 🌧️\n",
    "- On days when it does not rain, 25% of the time there are dark clouds in the sky.\n",
    "\n",
    "<u><b>What is the probability that it will rain?</b></u>\n",
    "\n",
    "<img src=\"images/clouds.png\">\n"
   ]
  },
  {
   "cell_type": "code",
   "execution_count": 12,
   "metadata": {},
   "outputs": [],
   "source": [
    "# Your code here\n",
    "b_given_a = .95\n",
    "a = .30\n",
    "b = (b_given_a * a) + (.25 * .7)\n",
    "a_given_b = bayes(b_given_a, a, b)"
   ]
  },
  {
   "cell_type": "markdown",
   "metadata": {},
   "source": [
    "*Run the cell below to check your answer*"
   ]
  },
  {
   "cell_type": "code",
   "execution_count": 13,
   "metadata": {
    "ExecuteTime": {
     "end_time": "2020-06-09T02:15:37.758686Z",
     "start_time": "2020-06-09T02:15:37.754384Z"
    }
   },
   "outputs": [
    {
     "data": {
      "text/markdown": [
       "✅ **Hey, you did it.  Good job.**"
      ],
      "text/plain": [
       "<IPython.core.display.Markdown object>"
      ]
     },
     "metadata": {},
     "output_type": "display_data"
    }
   ],
   "source": [
    "test.run_test(a_given_b, 'rain')"
   ]
  },
  {
   "cell_type": "markdown",
   "metadata": {},
   "source": [
    "# #4 Parenthood"
   ]
  },
  {
   "cell_type": "markdown",
   "metadata": {},
   "source": [
    "You are on a jury considering a paternity suit.  The mother has blood type O, and the alleged father has blood type AB.\n",
    "\n",
    "A blood test shows that the child has blood type B.   What is the chance that the alleged father is in fact the real father, given that the child has blood type B?\n",
    "\n",
    "Here's some information we need to solve the problem.  According to genetics, there is a 50% chance that this child will have blood type B if this alleged father is the real father, and based on rates of B genes in the population, there is a 9% chance that this child would have blood type B if this alleged father is not the real father.\n",
    "\n",
    "Based on other evidence (e.g., testimonials, physical evidence, records) presented before the DNA test, you believe there is a 75% chance that the alleged father is the real father.  This assessment is your prior belief.  Now, we need to use Bayes Rule to update it for the results of the child's blood test."
   ]
  },
  {
   "cell_type": "code",
   "execution_count": 14,
   "metadata": {},
   "outputs": [],
   "source": [
    "# Your code here\n",
    "b_given_a = .5\n",
    "a = .75\n",
    "b = (b_given_a * a) + (.09 * .25)\n",
    "a_given_b = bayes(b_given_a, a, b)"
   ]
  },
  {
   "cell_type": "markdown",
   "metadata": {},
   "source": [
    "*Run the cell below to check your answer*"
   ]
  },
  {
   "cell_type": "code",
   "execution_count": 15,
   "metadata": {
    "ExecuteTime": {
     "end_time": "2020-06-09T02:28:52.903789Z",
     "start_time": "2020-06-09T02:28:52.897050Z"
    }
   },
   "outputs": [
    {
     "data": {
      "text/markdown": [
       "✅ **Hey, you did it.  Good job.**"
      ],
      "text/plain": [
       "<IPython.core.display.Markdown object>"
      ]
     },
     "metadata": {},
     "output_type": "display_data"
    }
   ],
   "source": [
    "test.run_test(a_given_b, 'father')"
   ]
  },
  {
   "cell_type": "code",
   "execution_count": null,
   "metadata": {},
   "outputs": [],
   "source": []
  }
 ],
 "metadata": {
  "hide_input": false,
  "kernelspec": {
   "display_name": "Python 3",
   "language": "python",
   "name": "python3"
  },
  "language_info": {
   "codemirror_mode": {
    "name": "ipython",
    "version": 3
   },
   "file_extension": ".py",
   "mimetype": "text/x-python",
   "name": "python",
   "nbconvert_exporter": "python",
   "pygments_lexer": "ipython3",
   "version": "3.8.5"
  },
  "toc": {
   "base_numbering": 1,
   "nav_menu": {},
   "number_sections": false,
   "sideBar": true,
   "skip_h1_title": true,
   "title_cell": "Table of Contents",
   "title_sidebar": "Contents",
   "toc_cell": false,
   "toc_position": {},
   "toc_section_display": true,
   "toc_window_display": false
  },
  "varInspector": {
   "cols": {
    "lenName": 16,
    "lenType": 16,
    "lenVar": 40
   },
   "kernels_config": {
    "python": {
     "delete_cmd_postfix": "",
     "delete_cmd_prefix": "del ",
     "library": "var_list.py",
     "varRefreshCmd": "print(var_dic_list())"
    },
    "r": {
     "delete_cmd_postfix": ") ",
     "delete_cmd_prefix": "rm(",
     "library": "var_list.r",
     "varRefreshCmd": "cat(var_dic_list()) "
    }
   },
   "types_to_exclude": [
    "module",
    "function",
    "builtin_function_or_method",
    "instance",
    "_Feature"
   ],
   "window_display": false
  }
 },
 "nbformat": 4,
 "nbformat_minor": 4
}
